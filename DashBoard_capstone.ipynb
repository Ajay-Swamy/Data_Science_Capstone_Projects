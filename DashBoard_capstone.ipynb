{
 "cells": [
  {
   "cell_type": "code",
   "execution_count": 71,
   "id": "c1d763aa-b920-484c-b603-9963312c4a3b",
   "metadata": {},
   "outputs": [],
   "source": [
    "import dash"
   ]
  },
  {
   "cell_type": "code",
   "execution_count": 73,
   "id": "8cfb0ff1-2684-49d6-9d4d-e6cbf26ec242",
   "metadata": {},
   "outputs": [],
   "source": [
    "from dash import dcc\n",
    "from dash import html\n",
    "from dash.dependencies import Input,Output\n",
    "import plotly.express as px\n",
    "import pandas as pd"
   ]
  },
  {
   "cell_type": "code",
   "execution_count": 75,
   "id": "5bab184e-7363-48b3-b3ae-80c2a568d917",
   "metadata": {},
   "outputs": [],
   "source": [
    "spacex_df=pd.read_csv(\"https://cf-courses-data.s3.us.cloud-object-storage.appdomain.cloud/IBM-DS0321EN-SkillsNetwork/datasets/spacex_launch_dash.csv\")"
   ]
  },
  {
   "cell_type": "code",
   "execution_count": 77,
   "id": "bd0b728e-6724-4afb-b937-d18291061ac5",
   "metadata": {},
   "outputs": [
    {
     "data": {
      "text/html": [
       "<div>\n",
       "<style scoped>\n",
       "    .dataframe tbody tr th:only-of-type {\n",
       "        vertical-align: middle;\n",
       "    }\n",
       "\n",
       "    .dataframe tbody tr th {\n",
       "        vertical-align: top;\n",
       "    }\n",
       "\n",
       "    .dataframe thead th {\n",
       "        text-align: right;\n",
       "    }\n",
       "</style>\n",
       "<table border=\"1\" class=\"dataframe\">\n",
       "  <thead>\n",
       "    <tr style=\"text-align: right;\">\n",
       "      <th></th>\n",
       "      <th>Unnamed: 0</th>\n",
       "      <th>Flight Number</th>\n",
       "      <th>Launch Site</th>\n",
       "      <th>class</th>\n",
       "      <th>Payload Mass (kg)</th>\n",
       "      <th>Booster Version</th>\n",
       "      <th>Booster Version Category</th>\n",
       "    </tr>\n",
       "  </thead>\n",
       "  <tbody>\n",
       "    <tr>\n",
       "      <th>0</th>\n",
       "      <td>0</td>\n",
       "      <td>1</td>\n",
       "      <td>CCAFS LC-40</td>\n",
       "      <td>0</td>\n",
       "      <td>0.0</td>\n",
       "      <td>F9 v1.0  B0003</td>\n",
       "      <td>v1.0</td>\n",
       "    </tr>\n",
       "    <tr>\n",
       "      <th>1</th>\n",
       "      <td>1</td>\n",
       "      <td>2</td>\n",
       "      <td>CCAFS LC-40</td>\n",
       "      <td>0</td>\n",
       "      <td>0.0</td>\n",
       "      <td>F9 v1.0  B0004</td>\n",
       "      <td>v1.0</td>\n",
       "    </tr>\n",
       "    <tr>\n",
       "      <th>2</th>\n",
       "      <td>2</td>\n",
       "      <td>3</td>\n",
       "      <td>CCAFS LC-40</td>\n",
       "      <td>0</td>\n",
       "      <td>525.0</td>\n",
       "      <td>F9 v1.0  B0005</td>\n",
       "      <td>v1.0</td>\n",
       "    </tr>\n",
       "    <tr>\n",
       "      <th>3</th>\n",
       "      <td>3</td>\n",
       "      <td>4</td>\n",
       "      <td>CCAFS LC-40</td>\n",
       "      <td>0</td>\n",
       "      <td>500.0</td>\n",
       "      <td>F9 v1.0  B0006</td>\n",
       "      <td>v1.0</td>\n",
       "    </tr>\n",
       "    <tr>\n",
       "      <th>4</th>\n",
       "      <td>4</td>\n",
       "      <td>5</td>\n",
       "      <td>CCAFS LC-40</td>\n",
       "      <td>0</td>\n",
       "      <td>677.0</td>\n",
       "      <td>F9 v1.0  B0007</td>\n",
       "      <td>v1.0</td>\n",
       "    </tr>\n",
       "  </tbody>\n",
       "</table>\n",
       "</div>"
      ],
      "text/plain": [
       "   Unnamed: 0  Flight Number  Launch Site  class  Payload Mass (kg)  \\\n",
       "0           0              1  CCAFS LC-40      0                0.0   \n",
       "1           1              2  CCAFS LC-40      0                0.0   \n",
       "2           2              3  CCAFS LC-40      0              525.0   \n",
       "3           3              4  CCAFS LC-40      0              500.0   \n",
       "4           4              5  CCAFS LC-40      0              677.0   \n",
       "\n",
       "  Booster Version Booster Version Category  \n",
       "0  F9 v1.0  B0003                     v1.0  \n",
       "1  F9 v1.0  B0004                     v1.0  \n",
       "2  F9 v1.0  B0005                     v1.0  \n",
       "3  F9 v1.0  B0006                     v1.0  \n",
       "4  F9 v1.0  B0007                     v1.0  "
      ]
     },
     "execution_count": 77,
     "metadata": {},
     "output_type": "execute_result"
    }
   ],
   "source": [
    "spacex_df.head()"
   ]
  },
  {
   "cell_type": "code",
   "execution_count": 79,
   "id": "f677014b-cd1d-4284-8856-3b9d16001e21",
   "metadata": {},
   "outputs": [],
   "source": [
    "max_payload = spacex_df['Payload Mass (kg)'].max()\n",
    "min_payload = spacex_df['Payload Mass (kg)'].min()"
   ]
  },
  {
   "cell_type": "code",
   "execution_count": 93,
   "id": "8285719e-83b5-48fb-a444-290ffb589d2d",
   "metadata": {},
   "outputs": [
    {
     "data": {
      "text/html": [
       "\n",
       "        <iframe\n",
       "            width=\"100%\"\n",
       "            height=\"650\"\n",
       "            src=\"http://127.0.0.1:8050/\"\n",
       "            frameborder=\"0\"\n",
       "            allowfullscreen\n",
       "            \n",
       "        ></iframe>\n",
       "        "
      ],
      "text/plain": [
       "<IPython.lib.display.IFrame at 0x280780d60c0>"
      ]
     },
     "metadata": {},
     "output_type": "display_data"
    }
   ],
   "source": [
    "\n",
    "app=dash.Dash(__name__)\n",
    "d_options=[ {'label':'All Sites','value':'ALL'}]\n",
    "for site in spacex_df['Launch Site'].unique():\n",
    "    d_options.append({'label':site,'value':site})\n",
    "    \n",
    "app.layout=html.Div(children=[\n",
    "    html.H1('SpaceX Launch Records Dashboard',style={'textAlign':'center','color':'#503D36','font-size':40}),\n",
    "    dcc.Dropdown(id='site-dropdown',options=d_options,searchable=True,value='ALL',placeholder='Select a Launch Site here'),\n",
    "    html.Br(),\n",
    "    html.Div(dcc.Graph(id='success-pie-chart')),\n",
    "    html.Br(),\n",
    "    html.P(\"Payload range (Kg):\"),\n",
    "    dcc.RangeSlider(id='payload-slider',\n",
    "                   min=0,max=10000,step=1000,marks={0:'0',2500:'2500',5000:'5000',7000:'7500',10000:'10000'},value=[min_payload,max_payload]\n",
    "                   ),\n",
    "    html.Div([dcc.Graph(id='success-payload-scatter-chart')])\n",
    "])\n",
    "@app.callback(\n",
    "    Output(component_id='success-pie-chart',component_property='figure'),\n",
    "    Input(component_id='site-dropdown',component_property='value')\n",
    ")\n",
    "def update_pie(launch_site):\n",
    "    if(launch_site=='ALL'):\n",
    "        fig=px.pie(spacex_df,values='class',names='Launch Site',title='Total Success launches By each Site')\n",
    "    else:\n",
    "        f_df=spacex_df[spacex_df['Launch Site']==launch_site]\n",
    "        fig=px.pie(f_df,names='class',title=f\"total succesful launches for {launch_site}\",color_discrete_map={0:'red',1:'green'},color='class')\n",
    "    return fig\n",
    "\n",
    "@app.callback(\n",
    "    Output('success-payload-scatter-chart','figure'),\n",
    "    [Input('site-dropdown','value'),\n",
    "    Input('payload-slider','value')]\n",
    ")\n",
    "\n",
    "def update_scatter(entered_site,payload_range):\n",
    "    low,high=payload_range\n",
    "    p_range=(spacex_df['Payload Mass (kg)']>=low) & (spacex_df['Payload Mass (kg)']<=high)\n",
    "    if entered_site=='ALL':\n",
    "        f_df=spacex_df[p_range]\n",
    "        fig=px.scatter(f_df,x='Payload Mass (kg)',y='class',\n",
    "                       color='Booster Version Category',\n",
    "                       title='Correlation between Payload and Success for all Sites'\n",
    "                       \n",
    "                      )\n",
    "    else:\n",
    "        f_df=spacex_df[(spacex_df['Launch Site']==entered_site) & p_range]\n",
    "        fig=px.scatter(\n",
    "            f_df,\n",
    "            x='Payload Mass (kg)',\n",
    "            y='class',\n",
    "            color='Booster Version Category',\n",
    "            title=f\"Correlation between Payload and Success for {entered_site}\"\n",
    "\n",
    "        )\n",
    "    return fig\n",
    "        \n",
    "        \n",
    "if __name__ == '__main__':\n",
    "    app.run()"
   ]
  },
  {
   "cell_type": "code",
   "execution_count": null,
   "id": "6d61e80c-2d52-4c40-afaf-ab7d3b7cfd05",
   "metadata": {},
   "outputs": [],
   "source": []
  }
 ],
 "metadata": {
  "kernelspec": {
   "display_name": "Python [conda env:base] *",
   "language": "python",
   "name": "conda-base-py"
  },
  "language_info": {
   "codemirror_mode": {
    "name": "ipython",
    "version": 3
   },
   "file_extension": ".py",
   "mimetype": "text/x-python",
   "name": "python",
   "nbconvert_exporter": "python",
   "pygments_lexer": "ipython3",
   "version": "3.12.7"
  }
 },
 "nbformat": 4,
 "nbformat_minor": 5
}
